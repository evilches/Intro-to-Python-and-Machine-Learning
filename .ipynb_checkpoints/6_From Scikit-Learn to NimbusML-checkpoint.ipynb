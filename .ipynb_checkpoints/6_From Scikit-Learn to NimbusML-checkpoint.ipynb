{
 "cells": [
  {
   "cell_type": "markdown",
   "metadata": {},
   "source": [
    "# Section 6: From Scikit-Learn to NimbusML\n",
    "\n",
    "\n",
    "## Goals:\n",
    "* Learn to write scripts with NimbusML components\n",
    "* Learn to boost your existing Scikit Learn scripts with NimbusML components\n",
    "\n",
    "## Why to use NimbusML ?\n",
    "* Used ML.NET before?\n",
    "* Used Scikit-Learn before?"
   ]
  },
  {
   "cell_type": "markdown",
   "metadata": {},
   "source": [
    "### Would you want this?\n",
    "<img align=\"middle\" src=\"https://nimbusml.blob.core.windows.net/mlads/goals.png\" height=700 />\n",
    "\n",
    "\n",
    "### NimbusML:\n",
    "<img align=\"middle\" src=\"https://nimbusml.blob.core.windows.net/mlads/speed.png\" width=550 height=550 />\n"
   ]
  },
  {
   "cell_type": "markdown",
   "metadata": {},
   "source": [
    "## Lets start ... \n",
    "## Check and if needed install NimbusML package (might take 1 to 7 mins)"
   ]
  },
  {
   "cell_type": "code",
   "execution_count": null,
   "metadata": {},
   "outputs": [],
   "source": [
    "import sys\n",
    "!{sys.executable.replace('python', 'pip') + ' install --upgrade nimbusml'}\n",
    "print(\"wheel installed.\")"
   ]
  },
  {
   "cell_type": "code",
   "execution_count": null,
   "metadata": {},
   "outputs": [],
   "source": [
    "# check version\n",
    "import nimbusml\n",
    "print (nimbusml.__version__)\n",
    "# 1.0.0\n",
    "\n",
    "# copy files to faster disk storage\n",
    "!mkdir /home/nbuser/local\n",
    "!cp -R Part3 /home/nbuser/local\n",
    "print(\"copy done.\")\n",
    "\n",
    "# run quick tests\n",
    "cmd = sys.executable + ' -m nimbusml.examples.FastLinearClassifier'\n",
    "!{cmd}\n",
    "print(\"tests ok.\")"
   ]
  },
  {
   "cell_type": "markdown",
   "metadata": {},
   "source": [
    "### Now lets do all the imports:"
   ]
  },
  {
   "cell_type": "code",
   "execution_count": null,
   "metadata": {},
   "outputs": [],
   "source": [
    "# Cell 1\n",
    "\n",
    "# imports\n",
    "import pandas as pd\n",
    "import numpy as np\n",
    "from sklearn.pipeline import Pipeline\n",
    "from sklearn.feature_extraction.text import CountVectorizer, TfidfTransformer\n",
    "from sklearn.metrics import accuracy_score\n",
    "from sklearn.linear_model import SGDClassifier\n",
    "\n",
    "# NimbusML imports\n",
    "from nimbusml import Pipeline as NimbusPipeline, FileDataStream\n",
    "from nimbusml.linear_model import FastLinearBinaryClassifier\n",
    "from nimbusml.feature_extraction.text import NGramFeaturizer"
   ]
  },
  {
   "cell_type": "markdown",
   "metadata": {},
   "source": [
    "### Set up train and test data:"
   ]
  },
  {
   "cell_type": "code",
   "execution_count": null,
   "metadata": {},
   "outputs": [],
   "source": [
    "# Cell 2\n",
    "\n",
    "np.random.seed(0)\n",
    "\n",
    "# Prepare train and test data\n",
    "# Twitter sentiment prediction\n",
    "# Subset of Kaggle Twitter positive/negative sentiment prediction https://www.kaggle.com/c/twitter-analysis  \n",
    "\n",
    "train_file = 'data/train.tsv'\n",
    "test_file = 'data/test.tsv'\n",
    "data_train = pd.read_csv(train_file, header=0, sep='\\t', encoding='latin-1') \n",
    "data_test = pd.read_csv(test_file, header=0, sep='\\t', encoding='latin-1')\n",
    "print(data_train[:10])\n",
    "\n",
    "label_column = 'Sentiment'\n",
    "feature_column = 'SentimentText'\n",
    "train_X = data_train[feature_column].values.astype('U')\n",
    "train_y = data_train[label_column]\n",
    "\n",
    "k = 5000 # cut file into 500 lines\n",
    "test_X = data_test[feature_column][:k].values.astype('U')\n",
    "test_y = data_test[label_column][:k]"
   ]
  },
  {
   "cell_type": "markdown",
   "metadata": {},
   "source": [
    "### Scikit script:"
   ]
  },
  {
   "cell_type": "code",
   "execution_count": null,
   "metadata": {},
   "outputs": [],
   "source": [
    "# Cell 3\n",
    "\n",
    "# Define pipeline, add transforms and classifier\n",
    "pipe = Pipeline([\n",
    "('vect', CountVectorizer()),\n",
    "('tfidf', TfidfTransformer()),\n",
    "('clf', SGDClassifier(max_iter=10))])\n",
    "\n",
    "# Train pipeline\n",
    "pipe.fit(train_X, train_y)\n",
    "\n",
    "# Get predictions\n",
    "test_pred = pipe.predict(test_X)\n",
    "\n",
    "print(test_pred[:10])\n",
    "print(\"acc: %s\" % accuracy_score(test_pred, test_y))"
   ]
  },
  {
   "cell_type": "markdown",
   "metadata": {},
   "source": [
    "### Replace with NimbusML learner:"
   ]
  },
  {
   "cell_type": "code",
   "execution_count": null,
   "metadata": {},
   "outputs": [],
   "source": [
    "# Cell 4\n",
    "\n",
    "# Define pipeline, add transforms and classifier\n",
    "pipe = Pipeline([\n",
    "('vect', CountVectorizer()),\n",
    "('tfidf', TfidfTransformer()),\n",
    "('clf', FastLinearBinaryClassifier())])\n",
    "\n",
    "# Train pipeline\n",
    "pipe.fit(train_X, train_y)\n",
    "\n",
    "# Get predictions\n",
    "test_pred = pipe.predict(test_X)\n",
    "\n",
    "#print(test_pred[:10])\n",
    "print(\"acc: %s\" % accuracy_score(test_pred, test_y))"
   ]
  },
  {
   "cell_type": "markdown",
   "metadata": {},
   "source": [
    "### If you need to look up FastLinearBinaryClassifier details, here is extensive doc site:\n",
    "https://docs.microsoft.com/en-us/NimbusML\n",
    "Additional TLC support alias: tlcsupp@microsoft.com\n",
    "\n",
    "\n",
    "### High level architecture\n",
    "\n",
    "* Memory passed in by ref\n",
    "* Memory passed back by copy\n",
    "\n",
    "<img align=\"middle\" src=\"https://nimbusml.blob.core.windows.net/mlads/architecture.png\" width=600 heigth=400 />\n",
    "\n"
   ]
  },
  {
   "cell_type": "markdown",
   "metadata": {},
   "source": [
    "### Optimized NimbusML script:"
   ]
  },
  {
   "cell_type": "code",
   "execution_count": null,
   "metadata": {},
   "outputs": [],
   "source": [
    "# Cell 5\n",
    "\n",
    "schema = 'sep=tab col=Label:R4:0 col=SentimentText:TX:1 header=+'\n",
    "trainDs = FileDataStream(train_file, schema)\n",
    "testDs = FileDataStream(test_file, schema)\n",
    "\n",
    "pipe = NimbusPipeline([\n",
    "  NGramFeaturizer() << {'Features':'SentimentText'},\n",
    "  FastLinearBinaryClassifier()])\n",
    "\n",
    "# Train pipeline\n",
    "pipe.fit(trainDs)\n",
    "\n",
    "# Get predictions\n",
    "test_pred = pipe.predict(testDs)\n",
    "\n",
    "#print(test_pred[:10])\n",
    "print(\"acc: %s\" % accuracy_score(test_pred['PredictedLabel'][:k], test_y))"
   ]
  },
  {
   "cell_type": "markdown",
   "metadata": {},
   "source": [
    "## Recap:\n",
    "* Created simple scikit learn script\n",
    "* Used NimbusML learner in scikit learn pipeline\n",
    "* Used NimbusML transformers and learner in NimbusML pipeline \n",
    "\n",
    "And if you would have run a whole dataset:\n",
    "<img align=\"middle\" src=\"https://nimbusml.blob.core.windows.net/mlads/scikit2nimbusml.png\"/>"
   ]
  },
  {
   "cell_type": "markdown",
   "metadata": {},
   "source": [
    "### Resources\n",
    "- [Scikit Learn](https://scikit-learn.org/stable/)\n",
    "-[Training of Python scikit-learn and deep learning models on Azure](https://docs.microsoft.com/en-us/azure/architecture/reference-architectures/ai/training-python-models)\n",
    "- [NimbusML Overview](https://docs.microsoft.com/en-us/nimbusml/overview)\n",
    "- [A Quick Start of NimbusML - Classification](https://docs.microsoft.com/en-us/nimbusml/tutorials/a_a-classification-with-synthetic-data)\n",
    "- [A Quick Start of NimbusML - Regression](https://docs.microsoft.com/en-us/nimbusml/tutorials/a_b-regression-with-synthetic-data)\n",
    "-[Sentiment Analysis 3 - Combining NimbusML and Scikit-learn](https://docs.microsoft.com/en-us/nimbusml/tutorials/b_c-sentiment-analysis-3-combining-nimbusml-and-scikit-learn)\n",
    "- [Loading, Saving and Serving Models with NimbusML](https://docs.microsoft.com/en-us/nimbusml/loadsavemodels)"
   ]
  }
 ],
 "metadata": {
  "kernelspec": {
   "display_name": "Python 3",
   "language": "python",
   "name": "python3"
  },
  "language_info": {
   "codemirror_mode": {
    "name": "ipython",
    "version": 3
   },
   "file_extension": ".py",
   "mimetype": "text/x-python",
   "name": "python",
   "nbconvert_exporter": "python",
   "pygments_lexer": "ipython3",
   "version": "3.7.3"
  }
 },
 "nbformat": 4,
 "nbformat_minor": 2
}
