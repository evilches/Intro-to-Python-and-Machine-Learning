{
 "cells": [
  {
   "cell_type": "markdown",
   "metadata": {},
   "source": [
    "# Section 7: Regression Model with NimbusML\n",
    "\n",
    "You will create an end-to-end regression model with the wine review dataset. The API of NimbusML is compatible with sklearn, so users who are already familiar with scikit-learn can get started right away. There are also some \"advanced\" techniques which can be helpful for optimal performance:\n",
    "\n",
    "1. NimbusML pipelines\n",
    "2. FileDataStream\n",
    "3. Column operations and roles"
   ]
  },
  {
   "cell_type": "markdown",
   "metadata": {},
   "source": [
    "*Let's get started!!*\n",
    "\n",
    "Note that it would be useful to have this page opened for class reference:\n",
    "\n",
    "https://docs.microsoft.com/en-us/nimbusml"
   ]
  },
  {
   "cell_type": "markdown",
   "metadata": {},
   "source": [
    "## 1. Quick Start"
   ]
  },
  {
   "cell_type": "markdown",
   "metadata": {},
   "source": [
    "The modeling data can be sourced from several different types. Most array-like structures are supported (e.g. lists, numpy arrays, dataframes, series etc.). Let’s look at a simple example."
   ]
  },
  {
   "cell_type": "code",
   "execution_count": null,
   "metadata": {},
   "outputs": [],
   "source": [
    "from nimbusml.linear_model import FastLinearClassifier\n",
    "X = [[1,2,3],[2,3,4],[-1.2,-1,-7]]\n",
    "Y = [0,0,1]\n",
    "\n",
    "model = FastLinearClassifier()\n",
    "model.fit(X,Y)\n",
    "\n",
    "model.predict(X)"
   ]
  },
  {
   "cell_type": "markdown",
   "metadata": {},
   "source": [
    "You can also use Pipeline to include more than one operators in the model, just like sklearn."
   ]
  },
  {
   "cell_type": "code",
   "execution_count": null,
   "metadata": {},
   "outputs": [],
   "source": [
    "from nimbusml import Pipeline\n",
    "from nimbusml.preprocessing.missing_values import Handler as Missingval_Handler\n",
    "\n",
    "model = Pipeline([\n",
    "                    Missingval_Handler(), # issues handling integers, input needs to be float\n",
    "                    FastLinearClassifier()\n",
    "                 ])\n",
    "model.fit(X,Y)\n",
    "\n",
    "scores, metrics = model.test(X,Y)\n",
    "metrics"
   ]
  },
  {
   "cell_type": "markdown",
   "metadata": {},
   "source": [
    "## 2. Wine Review Example"
   ]
  },
  {
   "cell_type": "markdown",
   "metadata": {},
   "source": [
    "In this section, you are trying to develop a prediction model to use the review data and other information of the wine to predict its price. You will use NimbusML's text featurizer to extract numeric features from the review corpus using **pre-trained** language models.\n",
    "\n",
    "The dataset contains a mix of numeric, categorical and text features. This section will demonstrate how  a pipeline of transforms and trainers to do the following.\n",
    "\n",
    "-\tProcess data directly from files!\n",
    "-\tFilter records\n",
    "-\tNew : how to apply transforms to just the columns of interest!!\n",
    "-\tUsing OneHotVectorizer to encode the categorical features\n",
    "-\tUse of NGramFeaturizer  and WordEmbedding transform (a pre-trained DNN model) to convert text to numeric embeddings.\n",
    "-\tFeature selection using the CountSelector\n",
    "-\tFitting a regression model"
   ]
  },
  {
   "cell_type": "markdown",
   "metadata": {},
   "source": [
    "### 2.1 Data Preprocessing - Stream Data from Files"
   ]
  },
  {
   "cell_type": "code",
   "execution_count": null,
   "metadata": {},
   "outputs": [],
   "source": [
    "from nimbusml import FileDataStream\n",
    "\n",
    "# you don't use pandas DataFrame, but FileDataStream to improve performance\n",
    "ds_train = FileDataStream.read_csv(\"data/wine_train.csv\")\n",
    "ds_test = FileDataStream.read_csv(\"data/wine_test.csv\")\n",
    "ds_train.head(3)"
   ]
  },
  {
   "cell_type": "code",
   "execution_count": null,
   "metadata": {},
   "outputs": [],
   "source": [
    "ds_train.schema"
   ]
  },
  {
   "cell_type": "markdown",
   "metadata": {},
   "source": [
    "### 2.2 Model Development"
   ]
  },
  {
   "cell_type": "markdown",
   "metadata": {},
   "source": [
    "Based on the data type, you want to develop a pipeline that applies different operators onto different columns. Note that this pipeline can defintely be improved to achieve better accuracy.  "
   ]
  },
  {
   "cell_type": "code",
   "execution_count": null,
   "metadata": {},
   "outputs": [],
   "source": [
    "from IPython.display import Image\n",
    "Image(filename='Graphics/1.png')"
   ]
  },
  {
   "cell_type": "code",
   "execution_count": null,
   "metadata": {},
   "outputs": [],
   "source": [
    "from nimbusml.preprocessing.missing_values import Filter as Missingval_Filter\n",
    "from nimbusml.feature_extraction.categorical import OneHotVectorizer\n",
    "from nimbusml.feature_selection import CountSelector\n",
    "from nimbusml.feature_extraction.text import NGramFeaturizer\n",
    "from nimbusml.feature_extraction.text import WordEmbedding\n",
    "from nimbusml.ensemble import LightGbmRegressor\n",
    "from nimbusml import Role\n",
    "\n",
    "# tk = TakeFilter(count = 100) #Always suggested to start with a TakeFilter to quickly examine the pipeline\n",
    "\n",
    "ft = Missingval_Filter()                   << ['price']\n",
    "# ft = Missingval_Filter(columns = ['price']) #Equivalent\n",
    "\n",
    "onv = OneHotVectorizer()                   << ['country', 'province', 'region_1', 'variety']\n",
    "cs = CountSelector(count = 2)              << ['country', 'province', 'region_1', 'variety']\n",
    "\n",
    "ng = NGramFeaturizer(output_tokens_column_name = 'description_TransformedText') << ['description']\n",
    "we = WordEmbedding(model_kind = 'SentimentSpecificWordEmbedding')    << ['description_TransformedText']\n",
    "lgm = LightGbmRegressor()                  << {'Feature': ['country', 'province', 'region_1', 'variety', \n",
    "                                               'description_TransformedText', 'points'],\n",
    "                                               'Label': 'price'}\n",
    "\n",
    "# lgm = LightGbmRegressor(feature = ['country', 'province', 'region_1', 'variety', \n",
    "#                                                'description_TransformedText', 'points'],\n",
    "#                         label = 'price') #Equivalent\n",
    "\n",
    "model = Pipeline([ft, onv, cs, ng, we, lgm])\n",
    "model.fit(ds_train)"
   ]
  },
  {
   "cell_type": "markdown",
   "metadata": {},
   "source": [
    "Users can specify the input columns for the transform using:\n",
    "\n",
    "            OneHotVectorizer(columns = ['country', 'province', 'region_1', 'variety'])\n",
    "or\n",
    "\n",
    "            OneHotVectorizer() << ['country', 'province', 'region_1', 'variety']\n",
    "By default, the output column names are the same as the input (overwrite). Users can also specify the new output columns names, therefore, both the input and output columns are preserved.\n",
    "\n",
    "            OneHotVectorizer(columns = {'country_out': 'country', 'variety_out': 'variety'})\n",
    "or\n",
    "\n",
    "            OneHotVectorizer() << {'country_out': 'country', 'variety_out': 'variety'}\n",
    "\n",
    "For learners, users need to specify the roles for the columns by using:\n",
    "\n",
    "            FastForestRegressor(feature = ['country', 'province'], label = 'price')\n",
    "\n",
    "The feature, lable are the \"roles\" users need to specify. Notice that, it is equivalent to use the shift operator:\n",
    "\n",
    "            FastForestRegressor() << {Role.Feature: ['country', 'province'], Role.Label: 'price'}\n",
    "\n",
    "You have well-known names for columns.  For example, column named as “Features” would be treated as a training data.  Column named “Label” will be treated as Label by default . Also, I believe those are case sensitive."
   ]
  },
  {
   "cell_type": "markdown",
   "metadata": {},
   "source": [
    "You can also plot the pipeline using the plot function."
   ]
  },
  {
   "cell_type": "code",
   "execution_count": null,
   "metadata": {},
   "outputs": [],
   "source": [
    "from nimbusml.utils.exports import img_export_pipeline\n",
    "fig = img_export_pipeline(model,ds_train) \n",
    "fig\n",
    "# fig.render(\"Graphics/ppl1.png\") # save this image to files"
   ]
  },
  {
   "cell_type": "markdown",
   "metadata": {},
   "source": [
    "### 2.3 Model Evaluation"
   ]
  },
  {
   "cell_type": "code",
   "execution_count": null,
   "metadata": {},
   "outputs": [],
   "source": [
    "metrics, scores = model.test(ds_test, output_scores=True)\n",
    "metrics"
   ]
  },
  {
   "cell_type": "code",
   "execution_count": null,
   "metadata": {},
   "outputs": [],
   "source": [
    "Image(filename='Graphics/2.png')"
   ]
  },
  {
   "cell_type": "markdown",
   "metadata": {},
   "source": [
    "## 3. Recap\n",
    "\n",
    "In this tutorial, we presented an example to:\n",
    "\n",
    "1. Use NimbusML pipeline\n",
    "2. Train the model with FileDataStream\n",
    "3. Column operation for transforms and learners:\n",
    "\n",
    "        For Transforms, always use \"columns = \" (or \"<<\" is equivalent)\n",
    "        For learners, specify roles by using \"feature = \", \"label = \" (or \"<< {'Feature': , 'Label': }\")\n",
    " \n",
    "For more details about the package, please refer to:\n",
    "\n",
    "https://docs.microsoft.com/en-us/nimbusml"
   ]
  },
  {
   "cell_type": "markdown",
   "metadata": {},
   "source": [
    "### Resources\n",
    "- [NimbusML FastLinearClassifier](https://docs.microsoft.com/en-us/python/api/nimbusml/nimbusml.linear_model.fastlinearclassifier?view=nimbusml-py-latest)\n",
    "- [NimbusML LightGbmRegressor](https://docs.microsoft.com/en-us/python/api/nimbusml/nimbusml.ensemble.lightgbmregressor?view=nimbusml-py-latest)\n",
    "- [Machine Learning at Microsoft with ML.NET](https://arxiv.org/pdf/1905.05715.pdf)"
   ]
  }
 ],
 "metadata": {
  "kernelspec": {
   "display_name": "Python 3",
   "language": "python",
   "name": "python3"
  },
  "language_info": {
   "codemirror_mode": {
    "name": "ipython",
    "version": 3
   },
   "file_extension": ".py",
   "mimetype": "text/x-python",
   "name": "python",
   "nbconvert_exporter": "python",
   "pygments_lexer": "ipython3",
   "version": "3.7.3"
  }
 },
 "nbformat": 4,
 "nbformat_minor": 2
}
